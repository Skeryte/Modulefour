{
 "cells": [
  {
   "cell_type": "markdown",
   "metadata": {},
   "source": [
    "### Exercise 1: \n",
    "\n",
    "Review the code in the following cell. This programmer was attempting to create a list of numbers and a list of even numbers between two values given by a user. The numbers list should include all numbers, and the evens list should include only even numbers. Use what you learned in Module 4 to fix the code and run it successfully!"
   ]
  },
  {
   "cell_type": "code",
   "execution_count": 5,
   "metadata": {},
   "outputs": [
    {
     "name": "stdout",
     "output_type": "stream",
     "text": [
      "Enter a starting number: 20\n",
      "Enter an ending number: 80\n",
      "[20, 21, 22, 23, 24, 25, 26, 27, 28, 29, 30, 31, 32, 33, 34, 35, 36, 37, 38, 39, 40, 41, 42, 43, 44, 45, 46, 47, 48, 49, 50, 51, 52, 53, 54, 55, 56, 57, 58, 59, 60, 61, 62, 63, 64, 65, 66, 67, 68, 69, 70, 71, 72, 73, 74, 75, 76, 77, 78, 79]\n",
      "[20, 22, 24, 26, 28, 30, 32, 34, 36, 38, 40, 42, 44, 46, 48, 50, 52, 54, 56, 58, 60, 62, 64, 66, 68, 70, 72, 74, 76, 78]\n"
     ]
    }
   ],
   "source": [
    "no1 = int(input(\"Enter a starting number: \"))\n",
    "no2 = int(input(\"Enter an ending number: \"))\n",
    "\n",
    "numbers = []\n",
    "evens = []\n",
    "\n",
    "for i in range(no1, no2):\n",
    "    numbers.append(i) \n",
    "    if i%2 == 0:     \n",
    "        evens.append(i)\n",
    "    \n",
    "print(numbers)    \n",
    "print(evens)"
   ]
  },
  {
   "cell_type": "code",
   "execution_count": null,
   "metadata": {},
   "outputs": [],
   "source": []
  },
  {
   "cell_type": "markdown",
   "metadata": {},
   "source": [
    "### Exercise 2:\n",
    "\n",
    "Define a function called <b>draw_triangle()</b> to draw a right triangle where the base of the triangle is the number given by a user and the rest of the triangle builds to the base value. Use the function to show that it works. \n",
    "\n",
    "e.g. <b>draw_triangle(7)</b> draws as below:\n",
    "\n",
    "    *\n",
    "    **\n",
    "    ***\n",
    "    ****\n",
    "    *****\n",
    "    ******\n",
    "    *******\n"
   ]
  },
  {
   "cell_type": "code",
   "execution_count": 19,
   "metadata": {},
   "outputs": [
    {
     "name": "stdout",
     "output_type": "stream",
     "text": [
      "Enter a Value: 8\n",
      "*\n",
      "**\n",
      "***\n",
      "****\n",
      "*****\n",
      "******\n",
      "*******\n",
      "********\n"
     ]
    }
   ],
   "source": [
    "### finish the code below ###\n",
    "\n",
    "def draw_triangle(base):\n",
    "    for x in range (base):\n",
    "        print ((x + 1) * \"*\")\n",
    "\n",
    "base = int(input(\"Enter a Value: \"))\n",
    "draw_triangle(base)"
   ]
  },
  {
   "cell_type": "code",
   "execution_count": null,
   "metadata": {},
   "outputs": [],
   "source": []
  },
  {
   "cell_type": "markdown",
   "metadata": {},
   "source": [
    "### Exercise 3:\n",
    "\n",
    "A furniture store organizes all items by the section of the store they are stored in. Each section has a number cooresponding to that section. A new branch of the furniture store is opening up, and it's up to you to quickly organize the merchandise into different sections. Create a list of numbers ranging from 1 - 5. Create a list of any three furniture items (i.e. table, lamp, etc). \n",
    "\n",
    "Using a for-loop, return a list of furniture items. Next to each furniture item should be the number of the section of the store the furniture item should be stored (i.e. 3 table, 3 lamp, 3 chair)."
   ]
  },
  {
   "cell_type": "code",
   "execution_count": 24,
   "metadata": {},
   "outputs": [
    {
     "name": "stdout",
     "output_type": "stream",
     "text": [
      "Furniture in 1 should be in table section.\n",
      "Furniture in 1 should be in lamp section.\n",
      "Furniture in 1 should be in chair section.\n",
      "Furniture in 2 should be in table section.\n",
      "Furniture in 2 should be in lamp section.\n",
      "Furniture in 2 should be in chair section.\n",
      "Furniture in 3 should be in table section.\n",
      "Furniture in 3 should be in lamp section.\n",
      "Furniture in 3 should be in chair section.\n",
      "Furniture in 4 should be in table section.\n",
      "Furniture in 4 should be in lamp section.\n",
      "Furniture in 4 should be in chair section.\n",
      "Furniture in 5 should be in table section.\n",
      "Furniture in 5 should be in lamp section.\n",
      "Furniture in 5 should be in chair section.\n"
     ]
    }
   ],
   "source": [
    "num = [1,2,3,4,5]\n",
    "furniture = [\"tables\", \"lamps\", \"chairs\"]\n",
    "\n",
    "for x in num: \n",
    "    for y in furniture:\n",
    "        print (f\"Furniture in {x} should be in {y} section\")\n",
    "        "
   ]
  },
  {
   "cell_type": "code",
   "execution_count": null,
   "metadata": {},
   "outputs": [],
   "source": []
  },
  {
   "cell_type": "markdown",
   "metadata": {},
   "source": [
    "### Exercise 4:\n",
    "\n",
    "What is the highest value \"a\" can be for the following code to return a value of \"3\"?"
   ]
  },
  {
   "cell_type": "code",
   "execution_count": 4,
   "metadata": {},
   "outputs": [
    {
     "name": "stdout",
     "output_type": "stream",
     "text": [
      "3\n"
     ]
    }
   ],
   "source": [
    "### the highest value can be: 3\n",
    "\n",
    "x = 0\n",
    "a = 3\n",
    "b = 3\n",
    "\n",
    "###\n",
    "\n",
    "if a > 0: ## \"a\" cannot be below 0\n",
    "    if b < 0: ## not true; skip\n",
    "        x = x + 3\n",
    "    elif a > 3: ## \"a\" cannot be greater than 3; x would be 4\n",
    "        x = x + 4\n",
    "    else: ## \"a\" can be equal to 3 for x to be 3\n",
    "        x = x + 3\n",
    "else:  ## if \"a\" is less than 0, x will be 0\n",
    "    x = x + 3\n",
    "print(x)\n"
   ]
  },
  {
   "cell_type": "code",
   "execution_count": null,
   "metadata": {},
   "outputs": [],
   "source": []
  }
 ],
 "metadata": {
  "kernelspec": {
   "display_name": "Python 3 (ipykernel)",
   "language": "python",
   "name": "python3"
  },
  "language_info": {
   "codemirror_mode": {
    "name": "ipython",
    "version": 3
   },
   "file_extension": ".py",
   "mimetype": "text/x-python",
   "name": "python",
   "nbconvert_exporter": "python",
   "pygments_lexer": "ipython3",
   "version": "3.9.13"
  }
 },
 "nbformat": 4,
 "nbformat_minor": 4
}
